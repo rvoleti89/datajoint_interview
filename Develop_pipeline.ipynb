{
 "cells": [
  {
   "cell_type": "markdown",
   "id": "30f2b690-de15-445f-a2de-d03003d18870",
   "metadata": {},
   "source": [
    "### Understand our data\n",
    "##### Read in the pickle file"
   ]
  },
  {
   "cell_type": "code",
   "execution_count": 1,
   "id": "6ea8a7ba-9b21-45ef-b30d-970c6514cf50",
   "metadata": {},
   "outputs": [],
   "source": [
    "import numpy as np\n",
    "import pandas as pd\n",
    "import pickle"
   ]
  },
  {
   "cell_type": "code",
   "execution_count": 2,
   "id": "953a327c-0c8f-4de9-b771-a9e0fb1e69d0",
   "metadata": {},
   "outputs": [],
   "source": [
    "data = pd.read_pickle('ret1_data.pkl')"
   ]
  },
  {
   "cell_type": "code",
   "execution_count": 3,
   "id": "c18c2c2b-8b0d-4ae2-bc0a-121706e19ff8",
   "metadata": {},
   "outputs": [
    {
     "data": {
      "text/plain": [
       "list"
      ]
     },
     "execution_count": 3,
     "metadata": {},
     "output_type": "execute_result"
    }
   ],
   "source": [
    "type(data)"
   ]
  },
  {
   "cell_type": "code",
   "execution_count": 4,
   "id": "e019e376-5d33-4694-98c6-837dc7a61667",
   "metadata": {},
   "outputs": [
    {
     "data": {
      "text/plain": [
       "dict"
      ]
     },
     "execution_count": 4,
     "metadata": {},
     "output_type": "execute_result"
    }
   ],
   "source": [
    "type(data[0])"
   ]
  },
  {
   "cell_type": "code",
   "execution_count": 5,
   "id": "a7ac93e7-7705-4d09-ae66-1fa8d78d1565",
   "metadata": {},
   "outputs": [
    {
     "data": {
      "text/plain": [
       "16"
      ]
     },
     "execution_count": 5,
     "metadata": {},
     "output_type": "execute_result"
    }
   ],
   "source": [
    "len(data)"
   ]
  },
  {
   "cell_type": "markdown",
   "id": "947caf09-e643-4ed1-b6ad-ecacc2760f19",
   "metadata": {},
   "source": [
    "The data in the pickle file is a list of $16$ dictionaries, as stated in the description of the data structure."
   ]
  },
  {
   "cell_type": "code",
   "execution_count": 6,
   "id": "47a2a5dd-f384-4515-812d-db0df37485d6",
   "metadata": {},
   "outputs": [
    {
     "name": "stdout",
     "output_type": "stream",
     "text": [
      "dict_keys(['sample_number', 'stimulations', 'subject_name', 'session_date'])\n",
      "Subject names are of the form \"WT (pax6 het)\"\n"
     ]
    }
   ],
   "source": [
    "example = data[15]\n",
    "\n",
    "print(example.keys())\n",
    "\n",
    "name = example['subject_name']\n",
    "\n",
    "print(f'Subject names are of the form \"{name}\"')"
   ]
  },
  {
   "cell_type": "markdown",
   "id": "2cd43df7-7ad3-4ee4-93c3-5e00c929cebb",
   "metadata": {},
   "source": [
    "See how many unique subject names there are."
   ]
  },
  {
   "cell_type": "code",
   "execution_count": 7,
   "id": "35cb8b51-8346-4145-ba48-6f6a3a185e47",
   "metadata": {},
   "outputs": [
    {
     "name": "stdout",
     "output_type": "stream",
     "text": [
      "There are 5 unique subjects.\n",
      "{'KO bax -/- (chx10)', 'WT (chx10 het)', 'KO (pax6)', 'WT (pax6 het)', 'KO (chx10)'}\n"
     ]
    }
   ],
   "source": [
    "subjects = set([item['subject_name'] for item in data])\n",
    "\n",
    "\n",
    "print(f'There are {len(subjects)} unique subjects.')\n",
    "\n",
    "print(subjects)"
   ]
  },
  {
   "cell_type": "markdown",
   "id": "ecd8f282-84e9-4c9f-b02c-5dde0773fd43",
   "metadata": {},
   "source": [
    "Therefore, we can assume that each subject may have been used in more than one sample, much like in the tutorial where a single mouse could be used for multiple experiment sessions. "
   ]
  },
  {
   "cell_type": "markdown",
   "id": "d53ccc35-60b0-45ed-a610-8b08e410a97c",
   "metadata": {},
   "source": [
    "## Import DataJoint and start creating pipeline\n",
    "\n",
    "### Part (1) of the challenge"
   ]
  },
  {
   "cell_type": "code",
   "execution_count": 8,
   "id": "dcf869d9-4306-4f8b-9b76-7bd01e2aee9a",
   "metadata": {},
   "outputs": [
    {
     "name": "stdout",
     "output_type": "stream",
     "text": [
      "Connecting rnvoleti@tutorial-db.datajoint.io:3306\n"
     ]
    },
    {
     "data": {
      "text/plain": [
       "DataJoint connection (connected) rnvoleti@tutorial-db.datajoint.io:3306"
      ]
     },
     "execution_count": 8,
     "metadata": {},
     "output_type": "execute_result"
    }
   ],
   "source": [
    "import datajoint as dj\n",
    "\n",
    "# dj.config['database.user'] =  'USERNAME_GOES_HERE'\n",
    "# dj.config['database.password'] = 'PASSWORD_GOES_HERE'             # replace with real password\n",
    "dj.config['database.host'] = 'tutorial-db.datajoint.io'   # DataJoint tutorial database\n",
    "\n",
    "dj.config.save_global()\n",
    "\n",
    "dj.conn()"
   ]
  },
  {
   "cell_type": "markdown",
   "id": "6e12a1ac-dcf5-475d-b585-2fc78c89b5ad",
   "metadata": {},
   "source": [
    "The first step is to create a `dj.Manual()` table for each of the mice, as we did in the tutorial. However, here the only unique identifier provided is the `subject_name` key, so we will use that as the primary attribute for this new `Mouse` table. However, we can add another attributes for knockout (KO) or wild type (WT), and call it `type`. \n",
    "\n",
    "Start by defining a new schema."
   ]
  },
  {
   "cell_type": "code",
   "execution_count": 9,
   "id": "10c7aabf-8332-452b-be48-e01d4cd26aca",
   "metadata": {},
   "outputs": [],
   "source": [
    "schema = dj.schema('rnvoleti_interview')"
   ]
  },
  {
   "cell_type": "code",
   "execution_count": 10,
   "id": "d6247394-043d-4b36-aa3d-27d87aff5754",
   "metadata": {},
   "outputs": [],
   "source": [
    "@schema\n",
    "class Subject(dj.Manual):\n",
    "    definition = \"\"\"\n",
    "    # Experimental animals\n",
    "    subject_name             : varchar(30)\n",
    "    ---\n",
    "    gene                     : varchar(30)\n",
    "    genotype                 : enum('homozygous', 'heterozygous')\n",
    "    type                     : enum('WT', 'KO')\n",
    "    bax='unknown'            : enum('-/-', '+/+', '+/-', 'unknown')\n",
    "    \"\"\""
   ]
  },
  {
   "cell_type": "code",
   "execution_count": 11,
   "id": "e24d20c9-b2c0-4cb4-b476-f711769fe6eb",
   "metadata": {},
   "outputs": [
    {
     "data": {
      "text/html": [
       "\n",
       "    \n",
       "    <style type=\"text/css\">\n",
       "        .Relation{\n",
       "            border-collapse:collapse;\n",
       "        }\n",
       "        .Relation th{\n",
       "            background: #A0A0A0; color: #ffffff; padding:4px; border:#f0e0e0 1px solid;\n",
       "            font-weight: normal; font-family: monospace; font-size: 100%;\n",
       "        }\n",
       "        .Relation td{\n",
       "            padding:4px; border:#f0e0e0 1px solid; font-size:100%;\n",
       "        }\n",
       "        .Relation tr:nth-child(odd){\n",
       "            background: #ffffff;\n",
       "        }\n",
       "        .Relation tr:nth-child(even){\n",
       "            background: #f3f1ff;\n",
       "        }\n",
       "        /* Tooltip container */\n",
       "        .djtooltip {\n",
       "        }\n",
       "        /* Tooltip text */\n",
       "        .djtooltip .djtooltiptext {\n",
       "            visibility: hidden;\n",
       "            width: 120px;\n",
       "            background-color: black;\n",
       "            color: #fff;\n",
       "            text-align: center;\n",
       "            padding: 5px 0;\n",
       "            border-radius: 6px;\n",
       "            /* Position the tooltip text - see examples below! */\n",
       "            position: absolute;\n",
       "            z-index: 1;\n",
       "        }\n",
       "        #primary {\n",
       "            font-weight: bold;\n",
       "            color: black;\n",
       "        }\n",
       "        #nonprimary {\n",
       "            font-weight: normal;\n",
       "            color: white;\n",
       "        }\n",
       "\n",
       "        /* Show the tooltip text when you mouse over the tooltip container */\n",
       "        .djtooltip:hover .djtooltiptext {\n",
       "            visibility: visible;\n",
       "        }\n",
       "    </style>\n",
       "    \n",
       "    <b>Experimental animals</b>\n",
       "        <div style=\"max-height:1000px;max-width:1500px;overflow:auto;\">\n",
       "        <table border=\"1\" class=\"Relation\">\n",
       "            <thead> <tr style=\"text-align: right;\"> <th> <div class=\"djtooltip\">\n",
       "                            <p id=\"primary\">subject_name</p>\n",
       "                            <span class=\"djtooltiptext\"></span>\n",
       "                        </div></th><th><div class=\"djtooltip\">\n",
       "                            <p id=\"nonprimary\">gene</p>\n",
       "                            <span class=\"djtooltiptext\"></span>\n",
       "                        </div></th><th><div class=\"djtooltip\">\n",
       "                            <p id=\"nonprimary\">genotype</p>\n",
       "                            <span class=\"djtooltiptext\"></span>\n",
       "                        </div></th><th><div class=\"djtooltip\">\n",
       "                            <p id=\"nonprimary\">type</p>\n",
       "                            <span class=\"djtooltiptext\"></span>\n",
       "                        </div></th><th><div class=\"djtooltip\">\n",
       "                            <p id=\"nonprimary\">bax</p>\n",
       "                            <span class=\"djtooltiptext\"></span>\n",
       "                        </div> </th> </tr> </thead>\n",
       "            <tbody> <tr>  </tr> </tbody>\n",
       "        </table>\n",
       "        \n",
       "        <p>Total: 0</p></div>\n",
       "        "
      ],
      "text/plain": [
       "*subject_name  gene     genotype     type     bax    \n",
       "+------------+ +------+ +----------+ +------+ +-----+\n",
       "\n",
       " (Total: 0)"
      ]
     },
     "execution_count": 11,
     "metadata": {},
     "output_type": "execute_result"
    }
   ],
   "source": [
    "Subject()"
   ]
  },
  {
   "cell_type": "code",
   "execution_count": 12,
   "id": "aecb4c84-6ada-4489-bdab-8d1987dede3c",
   "metadata": {},
   "outputs": [
    {
     "data": {
      "text/plain": [
       "{'KO (chx10)',\n",
       " 'KO (pax6)',\n",
       " 'KO bax -/- (chx10)',\n",
       " 'WT (chx10 het)',\n",
       " 'WT (pax6 het)'}"
      ]
     },
     "execution_count": 12,
     "metadata": {},
     "output_type": "execute_result"
    }
   ],
   "source": [
    "subjects"
   ]
  },
  {
   "cell_type": "code",
   "execution_count": 13,
   "id": "74c2eaa6-95d5-498d-94da-6579f22cc676",
   "metadata": {},
   "outputs": [],
   "source": [
    "# Create a list of dictiionaries for all subjects\n",
    "# Note: I am manually entering this since there are only 5 unique mice, but it would probably be better to write some code to parse the subject_name\n",
    "\n",
    "subject_list = [{'subject_name': 'KO (chx10)' , 'gene': 'chx10', 'genotype': 'homozygous', 'type': 'KO', 'bax': 'unknown'},\n",
    "                {'subject_name': 'KO (pax6)' , 'gene': 'pax6','genotype': 'homozygous', 'type': 'KO', 'bax': 'unknown'},\n",
    "                {'subject_name': 'KO bax -/- (chx10)' , 'gene': 'chx10', 'genotype': 'homozygous', 'type': 'KO', 'bax': '-/-'},\n",
    "                {'subject_name': 'WT (chx10 het)' , 'gene': 'chx10', 'genotype': 'heterozygous', 'type': 'WT', 'bax': 'unknown'},\n",
    "                {'subject_name': 'WT (pax6 het)' , 'gene': 'pax6', 'genotype': 'heterozygous', 'type': 'WT', 'bax': 'unknown'}\n",
    "               ]\n",
    "                \n"
   ]
  },
  {
   "cell_type": "code",
   "execution_count": 14,
   "id": "4599371a-8807-45cc-b72b-00e489ad9292",
   "metadata": {},
   "outputs": [],
   "source": [
    "Subject.insert(subject_list, skip_duplicates=True)"
   ]
  },
  {
   "cell_type": "code",
   "execution_count": 15,
   "id": "68ba9e9e-8679-43b0-b018-69bd509f8607",
   "metadata": {},
   "outputs": [
    {
     "data": {
      "text/html": [
       "\n",
       "    \n",
       "    <style type=\"text/css\">\n",
       "        .Relation{\n",
       "            border-collapse:collapse;\n",
       "        }\n",
       "        .Relation th{\n",
       "            background: #A0A0A0; color: #ffffff; padding:4px; border:#f0e0e0 1px solid;\n",
       "            font-weight: normal; font-family: monospace; font-size: 100%;\n",
       "        }\n",
       "        .Relation td{\n",
       "            padding:4px; border:#f0e0e0 1px solid; font-size:100%;\n",
       "        }\n",
       "        .Relation tr:nth-child(odd){\n",
       "            background: #ffffff;\n",
       "        }\n",
       "        .Relation tr:nth-child(even){\n",
       "            background: #f3f1ff;\n",
       "        }\n",
       "        /* Tooltip container */\n",
       "        .djtooltip {\n",
       "        }\n",
       "        /* Tooltip text */\n",
       "        .djtooltip .djtooltiptext {\n",
       "            visibility: hidden;\n",
       "            width: 120px;\n",
       "            background-color: black;\n",
       "            color: #fff;\n",
       "            text-align: center;\n",
       "            padding: 5px 0;\n",
       "            border-radius: 6px;\n",
       "            /* Position the tooltip text - see examples below! */\n",
       "            position: absolute;\n",
       "            z-index: 1;\n",
       "        }\n",
       "        #primary {\n",
       "            font-weight: bold;\n",
       "            color: black;\n",
       "        }\n",
       "        #nonprimary {\n",
       "            font-weight: normal;\n",
       "            color: white;\n",
       "        }\n",
       "\n",
       "        /* Show the tooltip text when you mouse over the tooltip container */\n",
       "        .djtooltip:hover .djtooltiptext {\n",
       "            visibility: visible;\n",
       "        }\n",
       "    </style>\n",
       "    \n",
       "    <b>Experimental animals</b>\n",
       "        <div style=\"max-height:1000px;max-width:1500px;overflow:auto;\">\n",
       "        <table border=\"1\" class=\"Relation\">\n",
       "            <thead> <tr style=\"text-align: right;\"> <th> <div class=\"djtooltip\">\n",
       "                            <p id=\"primary\">subject_name</p>\n",
       "                            <span class=\"djtooltiptext\"></span>\n",
       "                        </div></th><th><div class=\"djtooltip\">\n",
       "                            <p id=\"nonprimary\">gene</p>\n",
       "                            <span class=\"djtooltiptext\"></span>\n",
       "                        </div></th><th><div class=\"djtooltip\">\n",
       "                            <p id=\"nonprimary\">genotype</p>\n",
       "                            <span class=\"djtooltiptext\"></span>\n",
       "                        </div></th><th><div class=\"djtooltip\">\n",
       "                            <p id=\"nonprimary\">type</p>\n",
       "                            <span class=\"djtooltiptext\"></span>\n",
       "                        </div></th><th><div class=\"djtooltip\">\n",
       "                            <p id=\"nonprimary\">bax</p>\n",
       "                            <span class=\"djtooltiptext\"></span>\n",
       "                        </div> </th> </tr> </thead>\n",
       "            <tbody> <tr> <td>KO (chx10)</td>\n",
       "<td>chx10</td>\n",
       "<td>homozygous</td>\n",
       "<td>KO</td>\n",
       "<td>unknown</td></tr><tr><td>KO (pax6)</td>\n",
       "<td>pax6</td>\n",
       "<td>homozygous</td>\n",
       "<td>KO</td>\n",
       "<td>unknown</td></tr><tr><td>KO bax -/- (chx10)</td>\n",
       "<td>chx10</td>\n",
       "<td>homozygous</td>\n",
       "<td>KO</td>\n",
       "<td>-/-</td></tr><tr><td>WT (chx10 het)</td>\n",
       "<td>chx10</td>\n",
       "<td>heterozygous</td>\n",
       "<td>WT</td>\n",
       "<td>unknown</td></tr><tr><td>WT (pax6 het)</td>\n",
       "<td>pax6</td>\n",
       "<td>heterozygous</td>\n",
       "<td>WT</td>\n",
       "<td>unknown</td> </tr> </tbody>\n",
       "        </table>\n",
       "        \n",
       "        <p>Total: 5</p></div>\n",
       "        "
      ],
      "text/plain": [
       "*subject_name  gene      genotype       type     bax        \n",
       "+------------+ +-------+ +------------+ +------+ +---------+\n",
       "KO (chx10)     chx10     homozygous     KO       unknown    \n",
       "KO (pax6)      pax6      homozygous     KO       unknown    \n",
       "KO bax -/- (ch chx10     homozygous     KO       -/-        \n",
       "WT (chx10 het) chx10     heterozygous   WT       unknown    \n",
       "WT (pax6 het)  pax6      heterozygous   WT       unknown    \n",
       " (Total: 5)"
      ]
     },
     "execution_count": 15,
     "metadata": {},
     "output_type": "execute_result"
    }
   ],
   "source": [
    "Subject()"
   ]
  },
  {
   "cell_type": "markdown",
   "id": "7055fa88-7d3e-4e6a-9e19-1d278c2da877",
   "metadata": {},
   "source": [
    "#### Do a test query"
   ]
  },
  {
   "cell_type": "code",
   "execution_count": 16,
   "id": "d38f1308-15f8-46c9-9dbd-df2da10ecbc6",
   "metadata": {},
   "outputs": [
    {
     "data": {
      "text/html": [
       "\n",
       "    \n",
       "    <style type=\"text/css\">\n",
       "        .Relation{\n",
       "            border-collapse:collapse;\n",
       "        }\n",
       "        .Relation th{\n",
       "            background: #A0A0A0; color: #ffffff; padding:4px; border:#f0e0e0 1px solid;\n",
       "            font-weight: normal; font-family: monospace; font-size: 100%;\n",
       "        }\n",
       "        .Relation td{\n",
       "            padding:4px; border:#f0e0e0 1px solid; font-size:100%;\n",
       "        }\n",
       "        .Relation tr:nth-child(odd){\n",
       "            background: #ffffff;\n",
       "        }\n",
       "        .Relation tr:nth-child(even){\n",
       "            background: #f3f1ff;\n",
       "        }\n",
       "        /* Tooltip container */\n",
       "        .djtooltip {\n",
       "        }\n",
       "        /* Tooltip text */\n",
       "        .djtooltip .djtooltiptext {\n",
       "            visibility: hidden;\n",
       "            width: 120px;\n",
       "            background-color: black;\n",
       "            color: #fff;\n",
       "            text-align: center;\n",
       "            padding: 5px 0;\n",
       "            border-radius: 6px;\n",
       "            /* Position the tooltip text - see examples below! */\n",
       "            position: absolute;\n",
       "            z-index: 1;\n",
       "        }\n",
       "        #primary {\n",
       "            font-weight: bold;\n",
       "            color: black;\n",
       "        }\n",
       "        #nonprimary {\n",
       "            font-weight: normal;\n",
       "            color: white;\n",
       "        }\n",
       "\n",
       "        /* Show the tooltip text when you mouse over the tooltip container */\n",
       "        .djtooltip:hover .djtooltiptext {\n",
       "            visibility: visible;\n",
       "        }\n",
       "    </style>\n",
       "    \n",
       "    <b>Experimental animals</b>\n",
       "        <div style=\"max-height:1000px;max-width:1500px;overflow:auto;\">\n",
       "        <table border=\"1\" class=\"Relation\">\n",
       "            <thead> <tr style=\"text-align: right;\"> <th> <div class=\"djtooltip\">\n",
       "                            <p id=\"primary\">subject_name</p>\n",
       "                            <span class=\"djtooltiptext\"></span>\n",
       "                        </div></th><th><div class=\"djtooltip\">\n",
       "                            <p id=\"nonprimary\">gene</p>\n",
       "                            <span class=\"djtooltiptext\"></span>\n",
       "                        </div></th><th><div class=\"djtooltip\">\n",
       "                            <p id=\"nonprimary\">genotype</p>\n",
       "                            <span class=\"djtooltiptext\"></span>\n",
       "                        </div></th><th><div class=\"djtooltip\">\n",
       "                            <p id=\"nonprimary\">type</p>\n",
       "                            <span class=\"djtooltiptext\"></span>\n",
       "                        </div></th><th><div class=\"djtooltip\">\n",
       "                            <p id=\"nonprimary\">bax</p>\n",
       "                            <span class=\"djtooltiptext\"></span>\n",
       "                        </div> </th> </tr> </thead>\n",
       "            <tbody> <tr> <td>WT (chx10 het)</td>\n",
       "<td>chx10</td>\n",
       "<td>heterozygous</td>\n",
       "<td>WT</td>\n",
       "<td>unknown</td></tr><tr><td>WT (pax6 het)</td>\n",
       "<td>pax6</td>\n",
       "<td>heterozygous</td>\n",
       "<td>WT</td>\n",
       "<td>unknown</td> </tr> </tbody>\n",
       "        </table>\n",
       "        \n",
       "        <p>Total: 2</p></div>\n",
       "        "
      ],
      "text/plain": [
       "*subject_name  gene      genotype       type     bax        \n",
       "+------------+ +-------+ +------------+ +------+ +---------+\n",
       "WT (chx10 het) chx10     heterozygous   WT       unknown    \n",
       "WT (pax6 het)  pax6      heterozygous   WT       unknown    \n",
       " (Total: 2)"
      ]
     },
     "execution_count": 16,
     "metadata": {},
     "output_type": "execute_result"
    }
   ],
   "source": [
    "Subject & 'genotype = \"heterozygous\"'"
   ]
  },
  {
   "cell_type": "markdown",
   "id": "327115ca-c2f3-4971-9907-c31d14cd4069",
   "metadata": {},
   "source": [
    "#### Create Session Table\n",
    "\n",
    "This will depend on the `Subject`. \n",
    "\n",
    "Using the data loaded from the pickle file, we can use the `dj.Manual` tier here to define a Sesssion."
   ]
  },
  {
   "cell_type": "code",
   "execution_count": 17,
   "id": "2cdbce0f-6e5f-45c8-b6f1-e7bf7322acdb",
   "metadata": {},
   "outputs": [],
   "source": [
    "@schema\n",
    "class Session(dj.Manual):\n",
    "    definition = \"\"\"\n",
    "    # Experiment session\n",
    "    -> Subject\n",
    "    sample_number              : int                          # sample number\n",
    "    session_date               : date                         # date of session in YYYY-MM-DD format\n",
    "    ---\n",
    "    stimulations               : longblob                     # list of dicts for stimulations\n",
    "    \"\"\""
   ]
  },
  {
   "cell_type": "markdown",
   "id": "0f344225-265d-4ff9-b442-9b6356bd3bba",
   "metadata": {},
   "source": [
    "#### Visualize schema"
   ]
  },
  {
   "cell_type": "code",
   "execution_count": 18,
   "id": "903794cc-4c0c-409a-aef6-02b72dceb3a4",
   "metadata": {},
   "outputs": [
    {
     "name": "stderr",
     "output_type": "stream",
     "text": [
      "/home/rohit/miniconda3/envs/datajoint_interview/lib/python3.8/inspect.py:350: FutureWarning: pandas.Float64Index is deprecated and will be removed from pandas in a future version. Use pandas.Index with the appropriate dtype instead.\n",
      "  value = getattr(object, key)\n",
      "/home/rohit/miniconda3/envs/datajoint_interview/lib/python3.8/inspect.py:350: FutureWarning: pandas.Int64Index is deprecated and will be removed from pandas in a future version. Use pandas.Index with the appropriate dtype instead.\n",
      "  value = getattr(object, key)\n",
      "/home/rohit/miniconda3/envs/datajoint_interview/lib/python3.8/inspect.py:350: FutureWarning: pandas.UInt64Index is deprecated and will be removed from pandas in a future version. Use pandas.Index with the appropriate dtype instead.\n",
      "  value = getattr(object, key)\n",
      "/home/rohit/miniconda3/envs/datajoint_interview/lib/python3.8/inspect.py:350: FutureWarning: pandas.Float64Index is deprecated and will be removed from pandas in a future version. Use pandas.Index with the appropriate dtype instead.\n",
      "  value = getattr(object, key)\n",
      "/home/rohit/miniconda3/envs/datajoint_interview/lib/python3.8/inspect.py:350: FutureWarning: pandas.Int64Index is deprecated and will be removed from pandas in a future version. Use pandas.Index with the appropriate dtype instead.\n",
      "  value = getattr(object, key)\n",
      "/home/rohit/miniconda3/envs/datajoint_interview/lib/python3.8/inspect.py:350: FutureWarning: pandas.UInt64Index is deprecated and will be removed from pandas in a future version. Use pandas.Index with the appropriate dtype instead.\n",
      "  value = getattr(object, key)\n"
     ]
    },
    {
     "data": {
      "image/svg+xml": [
       "<svg xmlns=\"http://www.w3.org/2000/svg\" xmlns:xlink=\"http://www.w3.org/1999/xlink\" width=\"68pt\" height=\"114pt\" viewBox=\"0.00 0.00 68.00 114.00\">\n",
       "<g id=\"graph0\" class=\"graph\" transform=\"scale(1 1) rotate(0) translate(4 110)\">\n",
       "<polygon fill=\"white\" stroke=\"transparent\" points=\"-4,4 -4,-110 64,-110 64,4 -4,4\"/>\n",
       "<!-- Subject -->\n",
       "<g id=\"node1\" class=\"node\">\n",
       "<title>Subject</title>\n",
       "<g id=\"a_node1\"><a xlink:title=\"subject_name         \r",
       "------------------------------\r",
       "gene                 \r",
       "genotype             \r",
       "type                 \r",
       "bax=&quot;unknown&quot;        \r",
       "\">\n",
       "<polygon fill=\"#00ff00\" fill-opacity=\"0.188235\" stroke=\"#00ff00\" stroke-opacity=\"0.188235\" points=\"58.5,-106 1.5,-106 1.5,-71 58.5,-71 58.5,-106\"/>\n",
       "<text text-anchor=\"start\" x=\"9.5\" y=\"-86.4\" font-family=\"arial\" text-decoration=\"underline\" font-size=\"12.00\" fill=\"darkgreen\">Subject</text>\n",
       "</a>\n",
       "</g>\n",
       "</g>\n",
       "<!-- Session -->\n",
       "<g id=\"node2\" class=\"node\">\n",
       "<title>Session</title>\n",
       "<g id=\"a_node2\"><a xlink:title=\"→ Subject\r",
       "sample_number        \r",
       "session_date         \r",
       "------------------------------\r",
       "stimulations         \r",
       "\">\n",
       "<polygon fill=\"#00ff00\" fill-opacity=\"0.188235\" stroke=\"#00ff00\" stroke-opacity=\"0.188235\" points=\"60,-35 0,-35 0,0 60,0 60,-35\"/>\n",
       "<text text-anchor=\"start\" x=\"8\" y=\"-15.4\" font-family=\"arial\" text-decoration=\"underline\" font-size=\"12.00\" fill=\"darkgreen\">Session</text>\n",
       "</a>\n",
       "</g>\n",
       "</g>\n",
       "<!-- Subject&#45;&gt;Session -->\n",
       "<g id=\"edge1\" class=\"edge\">\n",
       "<title>Subject-&gt;Session</title>\n",
       "<path fill=\"none\" stroke=\"#000000\" stroke-width=\"0.75\" stroke-opacity=\"0.250980\" d=\"M30,-70.8C30,-59.95 30,-45.87 30,-35.05\"/>\n",
       "</g>\n",
       "</g>\n",
       "</svg>"
      ],
      "text/plain": [
       "<datajoint.diagram.Diagram at 0x7f6f84695610>"
      ]
     },
     "execution_count": 18,
     "metadata": {},
     "output_type": "execute_result"
    }
   ],
   "source": [
    "dj.Diagram(schema)"
   ]
  },
  {
   "cell_type": "code",
   "execution_count": 19,
   "id": "fb0369fd-269f-4f6c-bafd-357fdc016e51",
   "metadata": {},
   "outputs": [
    {
     "data": {
      "text/html": [
       "\n",
       "    \n",
       "    <style type=\"text/css\">\n",
       "        .Relation{\n",
       "            border-collapse:collapse;\n",
       "        }\n",
       "        .Relation th{\n",
       "            background: #A0A0A0; color: #ffffff; padding:4px; border:#f0e0e0 1px solid;\n",
       "            font-weight: normal; font-family: monospace; font-size: 100%;\n",
       "        }\n",
       "        .Relation td{\n",
       "            padding:4px; border:#f0e0e0 1px solid; font-size:100%;\n",
       "        }\n",
       "        .Relation tr:nth-child(odd){\n",
       "            background: #ffffff;\n",
       "        }\n",
       "        .Relation tr:nth-child(even){\n",
       "            background: #f3f1ff;\n",
       "        }\n",
       "        /* Tooltip container */\n",
       "        .djtooltip {\n",
       "        }\n",
       "        /* Tooltip text */\n",
       "        .djtooltip .djtooltiptext {\n",
       "            visibility: hidden;\n",
       "            width: 120px;\n",
       "            background-color: black;\n",
       "            color: #fff;\n",
       "            text-align: center;\n",
       "            padding: 5px 0;\n",
       "            border-radius: 6px;\n",
       "            /* Position the tooltip text - see examples below! */\n",
       "            position: absolute;\n",
       "            z-index: 1;\n",
       "        }\n",
       "        #primary {\n",
       "            font-weight: bold;\n",
       "            color: black;\n",
       "        }\n",
       "        #nonprimary {\n",
       "            font-weight: normal;\n",
       "            color: white;\n",
       "        }\n",
       "\n",
       "        /* Show the tooltip text when you mouse over the tooltip container */\n",
       "        .djtooltip:hover .djtooltiptext {\n",
       "            visibility: visible;\n",
       "        }\n",
       "    </style>\n",
       "    \n",
       "    <b>Experiment session</b>\n",
       "        <div style=\"max-height:1000px;max-width:1500px;overflow:auto;\">\n",
       "        <table border=\"1\" class=\"Relation\">\n",
       "            <thead> <tr style=\"text-align: right;\"> <th> <div class=\"djtooltip\">\n",
       "                            <p id=\"primary\">subject_name</p>\n",
       "                            <span class=\"djtooltiptext\"></span>\n",
       "                        </div></th><th><div class=\"djtooltip\">\n",
       "                            <p id=\"primary\">sample_number</p>\n",
       "                            <span class=\"djtooltiptext\">sample number</span>\n",
       "                        </div></th><th><div class=\"djtooltip\">\n",
       "                            <p id=\"primary\">session_date</p>\n",
       "                            <span class=\"djtooltiptext\">date of session in YYYY-MM-DD format</span>\n",
       "                        </div></th><th><div class=\"djtooltip\">\n",
       "                            <p id=\"nonprimary\">stimulations</p>\n",
       "                            <span class=\"djtooltiptext\">list of dicts for stimulations</span>\n",
       "                        </div> </th> </tr> </thead>\n",
       "            <tbody> <tr>  </tr> </tbody>\n",
       "        </table>\n",
       "        \n",
       "        <p>Total: 0</p></div>\n",
       "        "
      ],
      "text/plain": [
       "*subject_name  *sample_number *session_date  stimulatio\n",
       "+------------+ +------------+ +------------+ +--------+\n",
       "\n",
       " (Total: 0)"
      ]
     },
     "execution_count": 19,
     "metadata": {},
     "output_type": "execute_result"
    }
   ],
   "source": [
    "Session()"
   ]
  },
  {
   "cell_type": "code",
   "execution_count": 20,
   "id": "1cbf9864-de63-439e-abbd-70ebf35b5fbe",
   "metadata": {},
   "outputs": [],
   "source": [
    "Session.insert(data, skip_duplicates=True)"
   ]
  },
  {
   "cell_type": "code",
   "execution_count": 21,
   "id": "4a916fd7-ceee-42cf-b6bf-770a92fdd93b",
   "metadata": {},
   "outputs": [
    {
     "data": {
      "text/html": [
       "\n",
       "    \n",
       "    <style type=\"text/css\">\n",
       "        .Relation{\n",
       "            border-collapse:collapse;\n",
       "        }\n",
       "        .Relation th{\n",
       "            background: #A0A0A0; color: #ffffff; padding:4px; border:#f0e0e0 1px solid;\n",
       "            font-weight: normal; font-family: monospace; font-size: 100%;\n",
       "        }\n",
       "        .Relation td{\n",
       "            padding:4px; border:#f0e0e0 1px solid; font-size:100%;\n",
       "        }\n",
       "        .Relation tr:nth-child(odd){\n",
       "            background: #ffffff;\n",
       "        }\n",
       "        .Relation tr:nth-child(even){\n",
       "            background: #f3f1ff;\n",
       "        }\n",
       "        /* Tooltip container */\n",
       "        .djtooltip {\n",
       "        }\n",
       "        /* Tooltip text */\n",
       "        .djtooltip .djtooltiptext {\n",
       "            visibility: hidden;\n",
       "            width: 120px;\n",
       "            background-color: black;\n",
       "            color: #fff;\n",
       "            text-align: center;\n",
       "            padding: 5px 0;\n",
       "            border-radius: 6px;\n",
       "            /* Position the tooltip text - see examples below! */\n",
       "            position: absolute;\n",
       "            z-index: 1;\n",
       "        }\n",
       "        #primary {\n",
       "            font-weight: bold;\n",
       "            color: black;\n",
       "        }\n",
       "        #nonprimary {\n",
       "            font-weight: normal;\n",
       "            color: white;\n",
       "        }\n",
       "\n",
       "        /* Show the tooltip text when you mouse over the tooltip container */\n",
       "        .djtooltip:hover .djtooltiptext {\n",
       "            visibility: visible;\n",
       "        }\n",
       "    </style>\n",
       "    \n",
       "    <b>Experiment session</b>\n",
       "        <div style=\"max-height:1000px;max-width:1500px;overflow:auto;\">\n",
       "        <table border=\"1\" class=\"Relation\">\n",
       "            <thead> <tr style=\"text-align: right;\"> <th> <div class=\"djtooltip\">\n",
       "                            <p id=\"primary\">subject_name</p>\n",
       "                            <span class=\"djtooltiptext\"></span>\n",
       "                        </div></th><th><div class=\"djtooltip\">\n",
       "                            <p id=\"primary\">sample_number</p>\n",
       "                            <span class=\"djtooltiptext\">sample number</span>\n",
       "                        </div></th><th><div class=\"djtooltip\">\n",
       "                            <p id=\"primary\">session_date</p>\n",
       "                            <span class=\"djtooltiptext\">date of session in YYYY-MM-DD format</span>\n",
       "                        </div></th><th><div class=\"djtooltip\">\n",
       "                            <p id=\"nonprimary\">stimulations</p>\n",
       "                            <span class=\"djtooltiptext\">list of dicts for stimulations</span>\n",
       "                        </div> </th> </tr> </thead>\n",
       "            <tbody> <tr> <td>KO (chx10)</td>\n",
       "<td>1</td>\n",
       "<td>2008-06-06</td>\n",
       "<td>=BLOB=</td></tr><tr><td>KO (chx10)</td>\n",
       "<td>2</td>\n",
       "<td>2008-06-06</td>\n",
       "<td>=BLOB=</td></tr><tr><td>KO (chx10)</td>\n",
       "<td>2</td>\n",
       "<td>2008-06-24</td>\n",
       "<td>=BLOB=</td></tr><tr><td>KO (chx10)</td>\n",
       "<td>3</td>\n",
       "<td>2008-06-06</td>\n",
       "<td>=BLOB=</td></tr><tr><td>KO (chx10)</td>\n",
       "<td>3</td>\n",
       "<td>2008-06-24</td>\n",
       "<td>=BLOB=</td></tr><tr><td>KO (chx10)</td>\n",
       "<td>4</td>\n",
       "<td>2008-07-02</td>\n",
       "<td>=BLOB=</td></tr><tr><td>KO (pax6)</td>\n",
       "<td>1</td>\n",
       "<td>2008-05-16</td>\n",
       "<td>=BLOB=</td></tr><tr><td>KO (pax6)</td>\n",
       "<td>2</td>\n",
       "<td>2008-05-16</td>\n",
       "<td>=BLOB=</td></tr><tr><td>KO (pax6)</td>\n",
       "<td>2</td>\n",
       "<td>2008-06-28</td>\n",
       "<td>=BLOB=</td></tr><tr><td>KO (pax6)</td>\n",
       "<td>3</td>\n",
       "<td>2008-06-28</td>\n",
       "<td>=BLOB=</td></tr><tr><td>KO bax -/- (chx10)</td>\n",
       "<td>1</td>\n",
       "<td>2008-07-02</td>\n",
       "<td>=BLOB=</td></tr><tr><td>WT (chx10 het)</td>\n",
       "<td>1</td>\n",
       "<td>2008-06-24</td>\n",
       "<td>=BLOB=</td> </tr> </tbody>\n",
       "        </table>\n",
       "        <p>...</p>\n",
       "        <p>Total: 16</p></div>\n",
       "        "
      ],
      "text/plain": [
       "*subject_name  *sample_number *session_date  stimulatio\n",
       "+------------+ +------------+ +------------+ +--------+\n",
       "KO (chx10)     1              2008-06-06     =BLOB=    \n",
       "KO (chx10)     2              2008-06-06     =BLOB=    \n",
       "KO (chx10)     2              2008-06-24     =BLOB=    \n",
       "KO (chx10)     3              2008-06-06     =BLOB=    \n",
       "KO (chx10)     3              2008-06-24     =BLOB=    \n",
       "KO (chx10)     4              2008-07-02     =BLOB=    \n",
       "KO (pax6)      1              2008-05-16     =BLOB=    \n",
       "KO (pax6)      2              2008-05-16     =BLOB=    \n",
       "KO (pax6)      2              2008-06-28     =BLOB=    \n",
       "KO (pax6)      3              2008-06-28     =BLOB=    \n",
       "KO bax -/- (ch 1              2008-07-02     =BLOB=    \n",
       "WT (chx10 het) 1              2008-06-24     =BLOB=    \n",
       "   ...\n",
       " (Total: 16)"
      ]
     },
     "execution_count": 21,
     "metadata": {},
     "output_type": "execute_result"
    }
   ],
   "source": [
    "Session()"
   ]
  },
  {
   "cell_type": "markdown",
   "id": "5cc54d9b-3a51-429b-af33-c78e5a950da0",
   "metadata": {},
   "source": [
    "#### Stimulations Table\n",
    "\n",
    "The stimulations will each be stored as a `dj.Computed` table that is dependent on a given `Session`. We use the `dj.Computed` table tier because the imported data comes from the provided pickle file, whose contents are stored in our database.\n",
    "\n",
    "**Note:** One Session can have zero or more stimulations"
   ]
  },
  {
   "cell_type": "code",
   "execution_count": 22,
   "id": "a48f9b0e-6922-45b8-8a23-31842d3eb7a5",
   "metadata": {},
   "outputs": [],
   "source": [
    "@schema\n",
    "class Stimulations(dj.Computed):\n",
    "    definition = \"\"\"\n",
    "    -> Session\n",
    "    stim_id:           int\n",
    "    ---\n",
    "    fps=0:             float         # frames per second of movie\n",
    "    movie=null:        longblob      # numpy array of movie stimulus shaped as (horiz blocks, vert blocks, frames)\n",
    "    n_frames:          int           # integer number of frames\n",
    "    pixel_size=0:      float         # pixel size on retina in um/pixel\n",
    "    stim_height=0:     int           # height of stimulus in pixels\n",
    "    stim_width=0:      int           # width of the stimulus in pixels\n",
    "    stimulus_onset=0:  float         # onset of stimulus in seconds from start of recording\n",
    "    x_block_size=0:    int           # size of horizontal blocks in pixels\n",
    "    y_block_size=0:    int           # size of vertical blocks in pixels\n",
    "    spikes=null:       longblob      # list of spike times for recorded neurons, each element is np.ndarray()\n",
    "    \"\"\"\n",
    "    def make(self, key):\n",
    "        # load stimulations for a given key as a list\n",
    "        stims = (Session() & key).fetch1('stimulations')\n",
    "        \n",
    "        \n",
    "        print('Populating stimulation(s) for subject_name={subject_name}, sample_number={sample_number} on session_date={session_date}'.format(**key))\n",
    "        \n",
    "        for idx, item in enumerate(stims):\n",
    "            key['stim_id'] = idx\n",
    "            key['fps'] = item['fps']\n",
    "            key['n_frames'] = item['n_frames']\n",
    "            key['movie'] = item['movie']\n",
    "            key['pixel_size'] = item['pixel_size']\n",
    "            key['stim_height'] = item['stim_height']\n",
    "            key['stim_width'] = item['stim_width']\n",
    "            key['stimulus_onset'] = item['stimulus_onset']\n",
    "            key['x_block_size'] = item['x_block_size']\n",
    "            key['y_block_size'] = item['y_block_size']\n",
    "            key['spikes'] = item['spikes']\n",
    "            \n",
    "            # Insert key into self\n",
    "            self.insert1(key)\n",
    "            \n",
    "            print('\\tPopulated stimulation {stim_id}'.format(**key))"
   ]
  },
  {
   "cell_type": "code",
   "execution_count": 23,
   "id": "7e7bd557-8043-43a3-8b74-d73a37c91876",
   "metadata": {},
   "outputs": [
    {
     "name": "stdout",
     "output_type": "stream",
     "text": [
      "Populating stimulation(s) for subject_name=KO (chx10), sample_number=1 on session_date=2008-06-06\n",
      "\tPopulated stimulation 0\n",
      "Populating stimulation(s) for subject_name=KO (chx10), sample_number=2 on session_date=2008-06-06\n",
      "\tPopulated stimulation 0\n",
      "Populating stimulation(s) for subject_name=KO (chx10), sample_number=2 on session_date=2008-06-24\n",
      "\tPopulated stimulation 0\n",
      "Populating stimulation(s) for subject_name=KO (chx10), sample_number=3 on session_date=2008-06-06\n",
      "\tPopulated stimulation 0\n",
      "Populating stimulation(s) for subject_name=KO (chx10), sample_number=3 on session_date=2008-06-24\n",
      "\tPopulated stimulation 0\n",
      "Populating stimulation(s) for subject_name=KO (chx10), sample_number=4 on session_date=2008-07-02\n",
      "\tPopulated stimulation 0\n",
      "\tPopulated stimulation 1\n",
      "Populating stimulation(s) for subject_name=KO (pax6), sample_number=1 on session_date=2008-05-16\n",
      "\tPopulated stimulation 0\n",
      "Populating stimulation(s) for subject_name=KO (pax6), sample_number=2 on session_date=2008-05-16\n",
      "\tPopulated stimulation 0\n",
      "Populating stimulation(s) for subject_name=KO (pax6), sample_number=2 on session_date=2008-06-28\n",
      "Populating stimulation(s) for subject_name=KO (pax6), sample_number=3 on session_date=2008-06-28\n",
      "Populating stimulation(s) for subject_name=KO bax -/- (chx10), sample_number=1 on session_date=2008-07-02\n",
      "Populating stimulation(s) for subject_name=WT (chx10 het), sample_number=1 on session_date=2008-06-24\n",
      "\tPopulated stimulation 0\n",
      "Populating stimulation(s) for subject_name=WT (chx10 het), sample_number=4 on session_date=2008-06-28\n",
      "Populating stimulation(s) for subject_name=WT (chx10 het), sample_number=5 on session_date=2008-06-28\n",
      "Populating stimulation(s) for subject_name=WT (pax6 het), sample_number=6 on session_date=2008-06-28\n",
      "Populating stimulation(s) for subject_name=WT (pax6 het), sample_number=7 on session_date=2008-06-28\n"
     ]
    }
   ],
   "source": [
    "Stimulations.populate()"
   ]
  },
  {
   "cell_type": "code",
   "execution_count": 24,
   "id": "db6b0a78-6b7b-45c9-b90d-da5d44f57525",
   "metadata": {},
   "outputs": [
    {
     "data": {
      "text/html": [
       "\n",
       "    \n",
       "    <style type=\"text/css\">\n",
       "        .Relation{\n",
       "            border-collapse:collapse;\n",
       "        }\n",
       "        .Relation th{\n",
       "            background: #A0A0A0; color: #ffffff; padding:4px; border:#f0e0e0 1px solid;\n",
       "            font-weight: normal; font-family: monospace; font-size: 100%;\n",
       "        }\n",
       "        .Relation td{\n",
       "            padding:4px; border:#f0e0e0 1px solid; font-size:100%;\n",
       "        }\n",
       "        .Relation tr:nth-child(odd){\n",
       "            background: #ffffff;\n",
       "        }\n",
       "        .Relation tr:nth-child(even){\n",
       "            background: #f3f1ff;\n",
       "        }\n",
       "        /* Tooltip container */\n",
       "        .djtooltip {\n",
       "        }\n",
       "        /* Tooltip text */\n",
       "        .djtooltip .djtooltiptext {\n",
       "            visibility: hidden;\n",
       "            width: 120px;\n",
       "            background-color: black;\n",
       "            color: #fff;\n",
       "            text-align: center;\n",
       "            padding: 5px 0;\n",
       "            border-radius: 6px;\n",
       "            /* Position the tooltip text - see examples below! */\n",
       "            position: absolute;\n",
       "            z-index: 1;\n",
       "        }\n",
       "        #primary {\n",
       "            font-weight: bold;\n",
       "            color: black;\n",
       "        }\n",
       "        #nonprimary {\n",
       "            font-weight: normal;\n",
       "            color: white;\n",
       "        }\n",
       "\n",
       "        /* Show the tooltip text when you mouse over the tooltip container */\n",
       "        .djtooltip:hover .djtooltiptext {\n",
       "            visibility: visible;\n",
       "        }\n",
       "    </style>\n",
       "    \n",
       "    <b></b>\n",
       "        <div style=\"max-height:1000px;max-width:1500px;overflow:auto;\">\n",
       "        <table border=\"1\" class=\"Relation\">\n",
       "            <thead> <tr style=\"text-align: right;\"> <th> <div class=\"djtooltip\">\n",
       "                            <p id=\"primary\">subject_name</p>\n",
       "                            <span class=\"djtooltiptext\"></span>\n",
       "                        </div></th><th><div class=\"djtooltip\">\n",
       "                            <p id=\"primary\">sample_number</p>\n",
       "                            <span class=\"djtooltiptext\">sample number</span>\n",
       "                        </div></th><th><div class=\"djtooltip\">\n",
       "                            <p id=\"primary\">session_date</p>\n",
       "                            <span class=\"djtooltiptext\">date of session in YYYY-MM-DD format</span>\n",
       "                        </div></th><th><div class=\"djtooltip\">\n",
       "                            <p id=\"primary\">stim_id</p>\n",
       "                            <span class=\"djtooltiptext\"></span>\n",
       "                        </div></th><th><div class=\"djtooltip\">\n",
       "                            <p id=\"nonprimary\">fps</p>\n",
       "                            <span class=\"djtooltiptext\">frames per second of movie</span>\n",
       "                        </div></th><th><div class=\"djtooltip\">\n",
       "                            <p id=\"nonprimary\">movie</p>\n",
       "                            <span class=\"djtooltiptext\">numpy array of movie stimulus shaped as (horiz blocks, vert blocks, frames)</span>\n",
       "                        </div></th><th><div class=\"djtooltip\">\n",
       "                            <p id=\"nonprimary\">n_frames</p>\n",
       "                            <span class=\"djtooltiptext\">integer number of frames</span>\n",
       "                        </div></th><th><div class=\"djtooltip\">\n",
       "                            <p id=\"nonprimary\">pixel_size</p>\n",
       "                            <span class=\"djtooltiptext\">pixel size on retina in um/pixel</span>\n",
       "                        </div></th><th><div class=\"djtooltip\">\n",
       "                            <p id=\"nonprimary\">stim_height</p>\n",
       "                            <span class=\"djtooltiptext\">height of stimulus in pixels</span>\n",
       "                        </div></th><th><div class=\"djtooltip\">\n",
       "                            <p id=\"nonprimary\">stim_width</p>\n",
       "                            <span class=\"djtooltiptext\">width of the stimulus in pixels</span>\n",
       "                        </div></th><th><div class=\"djtooltip\">\n",
       "                            <p id=\"nonprimary\">stimulus_onset</p>\n",
       "                            <span class=\"djtooltiptext\">onset of stimulus in seconds from start of recording</span>\n",
       "                        </div></th><th><div class=\"djtooltip\">\n",
       "                            <p id=\"nonprimary\">x_block_size</p>\n",
       "                            <span class=\"djtooltiptext\">size of horizontal blocks in pixels</span>\n",
       "                        </div></th><th><div class=\"djtooltip\">\n",
       "                            <p id=\"nonprimary\">y_block_size</p>\n",
       "                            <span class=\"djtooltiptext\">size of vertical blocks in pixels</span>\n",
       "                        </div></th><th><div class=\"djtooltip\">\n",
       "                            <p id=\"nonprimary\">spikes</p>\n",
       "                            <span class=\"djtooltiptext\">list of spike times for recorded neurons, each element is np.ndarray()</span>\n",
       "                        </div> </th> </tr> </thead>\n",
       "            <tbody> <tr> <td>KO (chx10)</td>\n",
       "<td>1</td>\n",
       "<td>2008-06-06</td>\n",
       "<td>0</td>\n",
       "<td>59.9815</td>\n",
       "<td>=BLOB=</td>\n",
       "<td>3823</td>\n",
       "<td>8.3</td>\n",
       "<td>480</td>\n",
       "<td>640</td>\n",
       "<td>1.65657</td>\n",
       "<td>1</td>\n",
       "<td>480</td>\n",
       "<td>=BLOB=</td></tr><tr><td>KO (chx10)</td>\n",
       "<td>2</td>\n",
       "<td>2008-06-06</td>\n",
       "<td>0</td>\n",
       "<td>59.9815</td>\n",
       "<td>=BLOB=</td>\n",
       "<td>4377</td>\n",
       "<td>8.3</td>\n",
       "<td>480</td>\n",
       "<td>640</td>\n",
       "<td>1.77267</td>\n",
       "<td>640</td>\n",
       "<td>1</td>\n",
       "<td>=BLOB=</td></tr><tr><td>KO (chx10)</td>\n",
       "<td>2</td>\n",
       "<td>2008-06-24</td>\n",
       "<td>0</td>\n",
       "<td>59.9815</td>\n",
       "<td>=BLOB=</td>\n",
       "<td>4125</td>\n",
       "<td>8.3</td>\n",
       "<td>300</td>\n",
       "<td>640</td>\n",
       "<td>1.22127</td>\n",
       "<td>10</td>\n",
       "<td>10</td>\n",
       "<td>=BLOB=</td></tr><tr><td>KO (chx10)</td>\n",
       "<td>3</td>\n",
       "<td>2008-06-06</td>\n",
       "<td>0</td>\n",
       "<td>59.9815</td>\n",
       "<td>=BLOB=</td>\n",
       "<td>4241</td>\n",
       "<td>8.3</td>\n",
       "<td>480</td>\n",
       "<td>640</td>\n",
       "<td>1.00227</td>\n",
       "<td>10</td>\n",
       "<td>10</td>\n",
       "<td>=BLOB=</td></tr><tr><td>KO (chx10)</td>\n",
       "<td>3</td>\n",
       "<td>2008-06-24</td>\n",
       "<td>0</td>\n",
       "<td>59.9816</td>\n",
       "<td>=BLOB=</td>\n",
       "<td>4348</td>\n",
       "<td>8.3</td>\n",
       "<td>480</td>\n",
       "<td>640</td>\n",
       "<td>1.05317</td>\n",
       "<td>5</td>\n",
       "<td>480</td>\n",
       "<td>=BLOB=</td></tr><tr><td>KO (chx10)</td>\n",
       "<td>4</td>\n",
       "<td>2008-07-02</td>\n",
       "<td>0</td>\n",
       "<td>60.005</td>\n",
       "<td>=BLOB=</td>\n",
       "<td>4156</td>\n",
       "<td>8.3</td>\n",
       "<td>480</td>\n",
       "<td>640</td>\n",
       "<td>1.3066</td>\n",
       "<td>2</td>\n",
       "<td>480</td>\n",
       "<td>=BLOB=</td></tr><tr><td>KO (chx10)</td>\n",
       "<td>4</td>\n",
       "<td>2008-07-02</td>\n",
       "<td>1</td>\n",
       "<td>29.9908</td>\n",
       "<td>=BLOB=</td>\n",
       "<td>3854</td>\n",
       "<td>8.3</td>\n",
       "<td>320</td>\n",
       "<td>640</td>\n",
       "<td>1.2634</td>\n",
       "<td>8</td>\n",
       "<td>8</td>\n",
       "<td>=BLOB=</td></tr><tr><td>KO (pax6)</td>\n",
       "<td>1</td>\n",
       "<td>2008-05-16</td>\n",
       "<td>0</td>\n",
       "<td>59.9816</td>\n",
       "<td>=BLOB=</td>\n",
       "<td>4325</td>\n",
       "<td>8.3</td>\n",
       "<td>480</td>\n",
       "<td>640</td>\n",
       "<td>1.2488</td>\n",
       "<td>10</td>\n",
       "<td>10</td>\n",
       "<td>=BLOB=</td></tr><tr><td>KO (pax6)</td>\n",
       "<td>2</td>\n",
       "<td>2008-05-16</td>\n",
       "<td>0</td>\n",
       "<td>59.9816</td>\n",
       "<td>=BLOB=</td>\n",
       "<td>4331</td>\n",
       "<td>8.3</td>\n",
       "<td>480</td>\n",
       "<td>640</td>\n",
       "<td>1.0617</td>\n",
       "<td>1</td>\n",
       "<td>480</td>\n",
       "<td>=BLOB=</td></tr><tr><td>WT (chx10 het)</td>\n",
       "<td>1</td>\n",
       "<td>2008-06-24</td>\n",
       "<td>0</td>\n",
       "<td>59.9815</td>\n",
       "<td>=BLOB=</td>\n",
       "<td>3938</td>\n",
       "<td>8.3</td>\n",
       "<td>480</td>\n",
       "<td>640</td>\n",
       "<td>6.65177</td>\n",
       "<td>640</td>\n",
       "<td>2</td>\n",
       "<td>=BLOB=</td> </tr> </tbody>\n",
       "        </table>\n",
       "        \n",
       "        <p>Total: 10</p></div>\n",
       "        "
      ],
      "text/plain": [
       "*subject_name  *sample_number *session_date  *stim_id    fps         movie      n_frames     pixel_size     stim_height    stim_width     stimulus_onset x_block_size   y_block_size   spikes    \n",
       "+------------+ +------------+ +------------+ +---------+ +---------+ +--------+ +----------+ +------------+ +------------+ +------------+ +------------+ +------------+ +------------+ +--------+\n",
       "KO (chx10)     1              2008-06-06     0           59.9815     =BLOB=     3823         8.3            480            640            1.65657        1              480            =BLOB=    \n",
       "KO (chx10)     2              2008-06-06     0           59.9815     =BLOB=     4377         8.3            480            640            1.77267        640            1              =BLOB=    \n",
       "KO (chx10)     2              2008-06-24     0           59.9815     =BLOB=     4125         8.3            300            640            1.22127        10             10             =BLOB=    \n",
       "KO (chx10)     3              2008-06-06     0           59.9815     =BLOB=     4241         8.3            480            640            1.00227        10             10             =BLOB=    \n",
       "KO (chx10)     3              2008-06-24     0           59.9816     =BLOB=     4348         8.3            480            640            1.05317        5              480            =BLOB=    \n",
       "KO (chx10)     4              2008-07-02     0           60.005      =BLOB=     4156         8.3            480            640            1.3066         2              480            =BLOB=    \n",
       "KO (chx10)     4              2008-07-02     1           29.9908     =BLOB=     3854         8.3            320            640            1.2634         8              8              =BLOB=    \n",
       "KO (pax6)      1              2008-05-16     0           59.9816     =BLOB=     4325         8.3            480            640            1.2488         10             10             =BLOB=    \n",
       "KO (pax6)      2              2008-05-16     0           59.9816     =BLOB=     4331         8.3            480            640            1.0617         1              480            =BLOB=    \n",
       "WT (chx10 het) 1              2008-06-24     0           59.9815     =BLOB=     3938         8.3            480            640            6.65177        640            2              =BLOB=    \n",
       " (Total: 10)"
      ]
     },
     "execution_count": 24,
     "metadata": {},
     "output_type": "execute_result"
    }
   ],
   "source": [
    "Stimulations()"
   ]
  },
  {
   "cell_type": "code",
   "execution_count": 25,
   "id": "92418ae9-4f26-4347-ba9b-91e6fd643ad8",
   "metadata": {},
   "outputs": [
    {
     "name": "stderr",
     "output_type": "stream",
     "text": [
      "/home/rohit/miniconda3/envs/datajoint_interview/lib/python3.8/inspect.py:350: FutureWarning: pandas.Float64Index is deprecated and will be removed from pandas in a future version. Use pandas.Index with the appropriate dtype instead.\n",
      "  value = getattr(object, key)\n",
      "/home/rohit/miniconda3/envs/datajoint_interview/lib/python3.8/inspect.py:350: FutureWarning: pandas.Int64Index is deprecated and will be removed from pandas in a future version. Use pandas.Index with the appropriate dtype instead.\n",
      "  value = getattr(object, key)\n",
      "/home/rohit/miniconda3/envs/datajoint_interview/lib/python3.8/inspect.py:350: FutureWarning: pandas.UInt64Index is deprecated and will be removed from pandas in a future version. Use pandas.Index with the appropriate dtype instead.\n",
      "  value = getattr(object, key)\n"
     ]
    },
    {
     "data": {
      "image/svg+xml": [
       "<svg xmlns=\"http://www.w3.org/2000/svg\" xmlns:xlink=\"http://www.w3.org/1999/xlink\" width=\"91pt\" height=\"176pt\" viewBox=\"0.00 0.00 91.00 176.00\">\n",
       "<g id=\"graph0\" class=\"graph\" transform=\"scale(1 1) rotate(0) translate(4 172)\">\n",
       "<polygon fill=\"white\" stroke=\"transparent\" points=\"-4,4 -4,-172 87,-172 87,4 -4,4\"/>\n",
       "<!-- Subject -->\n",
       "<g id=\"node1\" class=\"node\">\n",
       "<title>Subject</title>\n",
       "<g id=\"a_node1\"><a xlink:title=\"subject_name         \r",
       "------------------------------\r",
       "gene                 \r",
       "genotype             \r",
       "type                 \r",
       "bax=&quot;unknown&quot;        \r",
       "\">\n",
       "<polygon fill=\"#00ff00\" fill-opacity=\"0.188235\" stroke=\"#00ff00\" stroke-opacity=\"0.188235\" points=\"70,-168 13,-168 13,-133 70,-133 70,-168\"/>\n",
       "<text text-anchor=\"start\" x=\"21\" y=\"-148.4\" font-family=\"arial\" text-decoration=\"underline\" font-size=\"12.00\" fill=\"darkgreen\">Subject</text>\n",
       "</a>\n",
       "</g>\n",
       "</g>\n",
       "<!-- Session -->\n",
       "<g id=\"node3\" class=\"node\">\n",
       "<title>Session</title>\n",
       "<g id=\"a_node3\"><a xlink:title=\"→ Subject\r",
       "sample_number        \r",
       "session_date         \r",
       "------------------------------\r",
       "stimulations         \r",
       "\">\n",
       "<polygon fill=\"#00ff00\" fill-opacity=\"0.188235\" stroke=\"#00ff00\" stroke-opacity=\"0.188235\" points=\"71.5,-97 11.5,-97 11.5,-62 71.5,-62 71.5,-97\"/>\n",
       "<text text-anchor=\"start\" x=\"19.5\" y=\"-77.4\" font-family=\"arial\" text-decoration=\"underline\" font-size=\"12.00\" fill=\"darkgreen\">Session</text>\n",
       "</a>\n",
       "</g>\n",
       "</g>\n",
       "<!-- Subject&#45;&gt;Session -->\n",
       "<g id=\"edge1\" class=\"edge\">\n",
       "<title>Subject-&gt;Session</title>\n",
       "<path fill=\"none\" stroke=\"#000000\" stroke-width=\"0.75\" stroke-opacity=\"0.250980\" d=\"M41.5,-132.8C41.5,-121.95 41.5,-107.87 41.5,-97.05\"/>\n",
       "</g>\n",
       "<!-- Stimulations -->\n",
       "<g id=\"node2\" class=\"node\">\n",
       "<title>Stimulations</title>\n",
       "<g id=\"a_node2\"><a xlink:title=\"→ Session\r",
       "stim_id              \r",
       "------------------------------\r",
       "fps=0                \r",
       "movie=null           \r",
       "n_frames             \r",
       "pixel_size=0         \r",
       "stim_height=0        \r",
       "stim_width=0         \r",
       "stimulus_onset=0     \r",
       "x_block_size=0       \r",
       "y_block_size=0       \r",
       "spikes=null          \r",
       "\">\n",
       "<ellipse fill=\"#ff0000\" fill-opacity=\"0.125490\" stroke=\"#ff0000\" stroke-opacity=\"0.125490\" cx=\"41.5\" cy=\"-13\" rx=\"13\" ry=\"13\"/>\n",
       "<text text-anchor=\"start\" x=\"8\" y=\"-10.9\" font-family=\"arial\" text-decoration=\"underline\" font-size=\"12.00\" fill=\"#7f0000\" fill-opacity=\"0.627451\">Stimulations</text>\n",
       "</a>\n",
       "</g>\n",
       "</g>\n",
       "<!-- Session&#45;&gt;Stimulations -->\n",
       "<g id=\"edge2\" class=\"edge\">\n",
       "<title>Session-&gt;Stimulations</title>\n",
       "<path fill=\"none\" stroke=\"#000000\" stroke-width=\"0.75\" stroke-opacity=\"0.250980\" d=\"M41.5,-61.89C41.5,-50.69 41.5,-36.17 41.5,-26.07\"/>\n",
       "</g>\n",
       "</g>\n",
       "</svg>"
      ],
      "text/plain": [
       "<datajoint.diagram.Diagram at 0x7f6f845bf580>"
      ]
     },
     "execution_count": 25,
     "metadata": {},
     "output_type": "execute_result"
    }
   ],
   "source": [
    "dj.Diagram(schema)"
   ]
  },
  {
   "cell_type": "markdown",
   "id": "4866649f-8744-46ce-a25b-8170b1de44a9",
   "metadata": {},
   "source": [
    "### Spike trains table\n",
    "\n",
    "The next entity we care about are the spike trains associated with Stimulation. We can use another `dj.Computed` table here.\n",
    "\n",
    "Each stimulation's `spikes` attribute contains a list of numpy arrays for the spike times (in seconds) for each neuron, of which there can be one or more.\n",
    "\n",
    "**Note:** The spike times are from the start of data recording, so we want to subtract the `stimulus_onset` attribute from all the spike times to get the spike times after the stimulus."
   ]
  },
  {
   "cell_type": "code",
   "execution_count": 26,
   "id": "f45c9007-0426-4ae4-a83a-c3dd4f3b4833",
   "metadata": {},
   "outputs": [],
   "source": [
    "keys = Stimulations.fetch('KEY')"
   ]
  },
  {
   "cell_type": "code",
   "execution_count": 27,
   "id": "6c417dc4-bf82-4357-a37c-5486dca1823b",
   "metadata": {},
   "outputs": [
    {
     "data": {
      "text/plain": [
       "array([ 0.14363,  0.40973,  0.41673,  0.42453,  0.43683,  0.47323,\n",
       "        1.81403, 24.24853, 30.38023, 35.30763, 35.31733, 35.33163,\n",
       "       41.05963, 42.10843, 42.11673, 42.13593, 45.36173, 45.37083,\n",
       "       45.40223, 56.59663, 56.60973, 56.62823, 67.61533, 67.62493,\n",
       "       67.63453])"
      ]
     },
     "execution_count": 27,
     "metadata": {},
     "output_type": "execute_result"
    }
   ],
   "source": [
    "(Stimulations() & keys[2]).fetch1('spikes')[25].reshape(-1) - (Stimulations() & keys[2]).fetch1('stimulus_onset')"
   ]
  },
  {
   "cell_type": "code",
   "execution_count": 28,
   "id": "955627e4-5edb-40b4-8891-7b0e3f7a4f0d",
   "metadata": {},
   "outputs": [
    {
     "data": {
      "text/plain": [
       "(64, 30, 4125)"
      ]
     },
     "execution_count": 28,
     "metadata": {},
     "output_type": "execute_result"
    }
   ],
   "source": [
    "(Stimulations() & keys[2]).fetch1('movie').shape"
   ]
  },
  {
   "cell_type": "code",
   "execution_count": 29,
   "id": "f6de4b63-9ddb-4270-ba05-b87865513128",
   "metadata": {},
   "outputs": [],
   "source": [
    "@schema\n",
    "class SpikeTrain(dj.Computed):\n",
    "    definition = \"\"\"\n",
    "    -> Stimulations\n",
    "    neuron_id:           int\n",
    "    ---\n",
    "    spike_times=null:    longblob      # numpy array of spike times AFTER stimulus onset\n",
    "    \"\"\"\n",
    "    def make(self, key):\n",
    "        # load stimulations for a given key as a list\n",
    "        spike_trains = (Stimulations() & key).fetch1('spikes')\n",
    "        \n",
    "        \n",
    "        print('Populating spike train(s) for subject_name={subject_name}, sample_number={sample_number} on session_date={session_date} for stim_id={stim_id}'.format(**key))\n",
    "        \n",
    "        for idx, item in enumerate(spike_trains):\n",
    "            key['neuron_id'] = idx\n",
    "            \n",
    "            # subtract onset time from spike times to see the spike times in relation to the stimulus\n",
    "            key['spike_times'] = item.reshape(-1,) - (Stimulations() & key).fetch1('stimulus_onset')\n",
    "            \n",
    "            # Insert key into self\n",
    "            self.insert1(key)\n",
    "            \n",
    "            print('\\tPopulated spike times for neuron {neuron_id}'.format(**key))"
   ]
  },
  {
   "cell_type": "code",
   "execution_count": null,
   "id": "f3c82e1b-6a5a-4628-a259-54d9baf9ebc5",
   "metadata": {},
   "outputs": [
    {
     "name": "stdout",
     "output_type": "stream",
     "text": [
      "Populating spike train(s) for subject_name=KO (chx10), sample_number=1 on session_date=2008-06-06 for stim_id=0\n",
      "\tPopulated spike times for neuron 0\n",
      "\tPopulated spike times for neuron 1\n",
      "\tPopulated spike times for neuron 2\n",
      "\tPopulated spike times for neuron 3\n",
      "Populating spike train(s) for subject_name=KO (chx10), sample_number=2 on session_date=2008-06-06 for stim_id=0\n",
      "\tPopulated spike times for neuron 0\n",
      "\tPopulated spike times for neuron 1\n",
      "\tPopulated spike times for neuron 2\n",
      "\tPopulated spike times for neuron 3\n",
      "\tPopulated spike times for neuron 4\n",
      "\tPopulated spike times for neuron 5\n",
      "Populating spike train(s) for subject_name=KO (chx10), sample_number=2 on session_date=2008-06-24 for stim_id=0\n",
      "\tPopulated spike times for neuron 0\n",
      "\tPopulated spike times for neuron 1\n",
      "\tPopulated spike times for neuron 2\n",
      "\tPopulated spike times for neuron 3\n",
      "\tPopulated spike times for neuron 4\n",
      "\tPopulated spike times for neuron 5\n",
      "\tPopulated spike times for neuron 6\n",
      "\tPopulated spike times for neuron 7\n",
      "\tPopulated spike times for neuron 8\n",
      "\tPopulated spike times for neuron 9\n",
      "\tPopulated spike times for neuron 10\n",
      "\tPopulated spike times for neuron 11\n",
      "\tPopulated spike times for neuron 12\n",
      "\tPopulated spike times for neuron 13\n",
      "\tPopulated spike times for neuron 14\n",
      "\tPopulated spike times for neuron 15\n",
      "\tPopulated spike times for neuron 16\n",
      "\tPopulated spike times for neuron 17\n",
      "\tPopulated spike times for neuron 18\n",
      "\tPopulated spike times for neuron 19\n",
      "\tPopulated spike times for neuron 20\n",
      "\tPopulated spike times for neuron 21\n",
      "\tPopulated spike times for neuron 22\n",
      "\tPopulated spike times for neuron 23\n",
      "\tPopulated spike times for neuron 24\n",
      "\tPopulated spike times for neuron 25\n",
      "Populating spike train(s) for subject_name=KO (chx10), sample_number=3 on session_date=2008-06-06 for stim_id=0\n",
      "\tPopulated spike times for neuron 0\n",
      "Populating spike train(s) for subject_name=KO (chx10), sample_number=3 on session_date=2008-06-24 for stim_id=0\n",
      "\tPopulated spike times for neuron 0\n",
      "\tPopulated spike times for neuron 1\n",
      "\tPopulated spike times for neuron 2\n",
      "\tPopulated spike times for neuron 3\n",
      "\tPopulated spike times for neuron 4\n",
      "\tPopulated spike times for neuron 5\n",
      "\tPopulated spike times for neuron 6\n"
     ]
    }
   ],
   "source": [
    "SpikeTrain.populate()"
   ]
  },
  {
   "cell_type": "code",
   "execution_count": null,
   "id": "74433c3e-6796-436d-8dd1-5c874adf2037",
   "metadata": {},
   "outputs": [],
   "source": [
    "SpikeTrain()"
   ]
  },
  {
   "cell_type": "code",
   "execution_count": null,
   "id": "751827bb-8c5c-4150-a223-ccceb1e2b6b3",
   "metadata": {},
   "outputs": [],
   "source": [
    "dj.Diagram(schema)"
   ]
  },
  {
   "cell_type": "markdown",
   "id": "acb9d254-7864-43ef-844e-748569fd5e0a",
   "metadata": {},
   "source": [
    "This concludes **Part 1**. "
   ]
  },
  {
   "cell_type": "markdown",
   "id": "6032c29c-1500-4b1e-8d3b-71529569a48e",
   "metadata": {},
   "source": [
    "### Part (2) of the challenge - Compute Spatio-Temporal Receptive Fields (STRF)\n",
    "\n",
    "In order to compute the STRF, we need to make use of the other attributes in the `Stimulations()` table. "
   ]
  },
  {
   "cell_type": "code",
   "execution_count": null,
   "id": "03aa16c4-08d0-4ced-af88-a313a957dc97",
   "metadata": {},
   "outputs": [],
   "source": [
    "Stimulations()"
   ]
  },
  {
   "cell_type": "markdown",
   "id": "2de8ae7a-cf6a-4522-8f27-82c1ee583d39",
   "metadata": {},
   "source": [
    "The computations will then all be done on each `spike_times` entry in `SpikeTrain()`."
   ]
  },
  {
   "cell_type": "code",
   "execution_count": null,
   "id": "ea774e57-05d3-4a91-aa5f-74e97b623a68",
   "metadata": {},
   "outputs": [],
   "source": [
    "SpikeTrain()"
   ]
  },
  {
   "cell_type": "markdown",
   "id": "e58b2f36-655c-4136-beaa-caaf6915aaaf",
   "metadata": {},
   "source": [
    "The **Spike-triggered Average (STA)** is defined (on Wikipedia) as:\n",
    "> Mathematically, the STA is the average stimulus preceding a spike. To compute the STA, the stimulus in the time window preceding each spike is extracted, and the resulting (spike-triggered) stimuli are averaged.\n",
    "\n",
    "In our case, we are told our stimulus vector for the $i$'th time bin, $\\mathbf{x_i}$, is *white noise* , so the Standard STA definition on Wikipedia should do.\n",
    "\n",
    "This is:\n",
    "\n",
    "\\begin{equation}\n",
    "    \\mathrm{STA} = \\frac{1}{n_{sp}} \\sum_{i=1}^{T}{y_i \\mathbf{x_i}},\n",
    "\\end{equation}\n",
    "where $T$ is the total number of time bins, $y_i$ is the number of spikes in bin $i$, and $n_{sp} = \\sum y_i$ is the total number of spikes.\n",
    "\n",
    "In matrix form, we can let the rows of a matrix $X$ be equal to $\\mathbf{x_i}^T$ and a column vector $\\mathbf{y}$ whose $i$'th element can be equal to $y_i$. Then we have\n",
    "\n",
    "\\begin{equation}\n",
    "    \\mathrm{STA} = \\frac{1}{n_{sp}} X^T \\mathbf{y}\n",
    "\\end{equation}\n",
    "\n",
    "In order to do this for our experiment, we need to determine a time bin/window size for each recording, which we can do with some trial and error for now.\n",
    "\n",
    "We have to consider the following in our experiment:\n",
    " * Time bin window size in seconds (maybe a parameter we can set with a `Lookup` table)\n",
    " * Segment of the movie to match this time in seconds to determine the size of $\\mathbf{x_i}$.\n",
    "   * We may need to use the `n_frames`, `framerate`, `x_block_size`, `y_block_size`, and the `movie` array to determine these\n",
    " * Count the number of spikes in each time bin and total number of spikes to determine $y_i$ and $n_{sp}$\n",
    " \n",
    "\n",
    "**Note**: I am not 100% certain about my method here, since the stimulus $\\mathbf{x_{i}}$ is supposed to *precede* the spike count in bin $i$, but they are indexed the same way in the equation. For the sake of simplicity, I am considering the stimulus and spike count in the same bin, and will try different bin sizes (presumably needs to be a sufficiently large bin for this to be approximately correct)."
   ]
  },
  {
   "cell_type": "markdown",
   "id": "50620982-3be7-467e-8698-95c0d9f9cddf",
   "metadata": {},
   "source": [
    "### Just playing around trying to understand how to compute STA with a single example with a fixed window size"
   ]
  },
  {
   "cell_type": "code",
   "execution_count": null,
   "id": "0ea0e76f-974f-4db6-922c-c3f431a5ecb3",
   "metadata": {},
   "outputs": [],
   "source": [
    "def count_spikes_in_bin(times, spikes):\n",
    "    start = times[0]\n",
    "    stop = times[-1]\n",
    "    mask = np.logical_and(spikes >= start, spikes < stop) \n",
    "    return len(spikes[mask])"
   ]
  },
  {
   "cell_type": "code",
   "execution_count": null,
   "id": "0a8b8c71-480a-4e21-badd-021ff538569d",
   "metadata": {},
   "outputs": [],
   "source": [
    "keys = SpikeTrain.fetch('KEY')\n",
    "\n",
    "window_size = 5\n",
    "\n",
    "movie = (Stimulations() & keys[2]).fetch1('movie')\n",
    "movie_dims = movie.shape\n",
    "\n",
    "n_fr = movie_dims[2]\n",
    "\n",
    "fr = (Stimulations() & keys[2]).fetch1('fps')\n",
    "\n",
    "x_size = (Stimulations() & keys[2]).fetch1('x_block_size')\n",
    "x_dim = (Stimulations() & keys[2]).fetch1('stim_width')\n",
    "\n",
    "y_size = (Stimulations() & keys[2]).fetch1('y_block_size')\n",
    "y_dim = (Stimulations() & keys[2]).fetch1('stim_height')\n",
    "\n",
    "\n",
    "# Padding so I can reshape the index mask to the correct size given a particular frame count.\n",
    "num_to_pad = window_size - n_fr % window_size  # maximum value padding amount\n",
    "mask_indices = np.pad(np.arange(n_fr), (0, num_to_pad), mode='maximum').reshape(-1, window_size) \n",
    "\n",
    "spikes = (SpikeTrain() & keys[2]).fetch1('spike_times')\n",
    "\n",
    "print(f'Movie has dimensions {movie_dims}')\n",
    "print(f'FPS is {fr}')\n",
    "print(f'Video dimensions are {x_dim} x {y_dim} with {movie_dims[2]} frames')\n",
    "print(f'x_block_size is {x_size}')\n",
    "print(f'y_block_size is {y_size}')\n",
    "\n",
    "# create array of frame times\n",
    "times = np.arange(0, n_fr) / fr\n",
    "\n",
    "fr_times_windows = times[mask_indices]\n",
    "\n",
    "\n",
    "spike_counts = np.apply_along_axis(lambda x: count_spikes_in_bin(x, spikes), axis=1, arr=fr_times_windows)\n",
    "\n",
    "print(f'We have {fr_times_windows.shape[0]} bins of size {fr_times_windows.shape[1]}')\n",
    "print('Sum of spike counts across all bins:', np.sum(spike_counts))\n",
    "print('Length of original spike train array:', len(spikes))"
   ]
  },
  {
   "cell_type": "markdown",
   "id": "264461dc-9b4c-457e-91a1-109927cc740a",
   "metadata": {},
   "source": [
    "It looks like some spikes are being missed by my method, but the number gets closer as the window size increases based on trial/error experimentation."
   ]
  },
  {
   "cell_type": "code",
   "execution_count": null,
   "id": "501bcb25-403e-4032-a4c6-d4ba8083375c",
   "metadata": {},
   "outputs": [],
   "source": [
    "windowed_movie = movie[:, :, mask_indices]\n",
    "\n",
    "windowed_movie.shape"
   ]
  },
  {
   "cell_type": "markdown",
   "id": "8fc23637-30dd-46b0-9e28-366cd9b993ac",
   "metadata": {},
   "source": [
    "Compute an average stimulus"
   ]
  },
  {
   "cell_type": "code",
   "execution_count": null,
   "id": "54890724-f779-424b-a41a-3c7365c12f25",
   "metadata": {},
   "outputs": [],
   "source": [
    "average_movie = np.mean(windowed_movie, axis=3)"
   ]
  },
  {
   "cell_type": "code",
   "execution_count": null,
   "id": "7470c0cf-1b5d-491c-a3f4-4eba0d7c8eed",
   "metadata": {},
   "outputs": [],
   "source": [
    "(average_movie @ spike_counts / np.sum(spike_counts)).shape"
   ]
  },
  {
   "cell_type": "markdown",
   "id": "351f3ae9-9ebe-4d29-9bc5-dde97de49e9d",
   "metadata": {},
   "source": [
    "Need to reshape to actual image size to store using block size"
   ]
  },
  {
   "cell_type": "markdown",
   "id": "144a3bbd-f347-4d5b-85af-2c323730f0cc",
   "metadata": {},
   "source": [
    "### Back to defining schema"
   ]
  },
  {
   "cell_type": "code",
   "execution_count": null,
   "id": "fe9f9af9-d9d5-4483-979f-6b11001346be",
   "metadata": {},
   "outputs": [],
   "source": [
    "# Define lookup table for STA parameters\n",
    "@schema\n",
    "class STRF_Param(dj.Lookup):\n",
    "    definition = \"\"\"\n",
    "    strf_param_id:          int                # unique id for STRF parameter set\n",
    "    ---\n",
    "    bin_size=0:             float              # time window bin size in seconds\n",
    "    \"\"\""
   ]
  },
  {
   "cell_type": "code",
   "execution_count": null,
   "id": "b7958aa4-a217-4582-bb0c-ac86581d8d0e",
   "metadata": {},
   "outputs": [],
   "source": [
    "# Try lots of window sizes in seconds\n",
    "STRF_Param.insert([(0, 0.5),\n",
    "                  ]\n",
    "                 )"
   ]
  },
  {
   "cell_type": "code",
   "execution_count": null,
   "id": "e5f74761-a31d-4b9c-8af7-0add95e56571",
   "metadata": {},
   "outputs": [],
   "source": [
    "@schema\n",
    "class STRF_Compute(dj.Computed):\n",
    "    definition = \"\"\"\n",
    "    -> SpikeTrain\n",
    "    -> STRF_Param\n",
    "    ---\n",
    "    n_spikes = null:         longblob    # array for number of spikes in each bin\n",
    "    sta_values = null:       longblob    # STA at each time point\n",
    "    \"\"\"\n",
    "    # Define a Part table for the STRF storage\n",
    "    class STRF_Store(dj.Part):\n",
    "        definition = \"\"\"\n",
    "        -> master\n",
    "        ---\n",
    "        strf:                longblob    # STRF computation over all windows\n",
    "       \"\"\"\n",
    "    \n",
    "    def make(self, key):\n",
    "        window_seconds = (STRF_Param() & key).fetch1('bin_size')  # window/bin size in seconds\n",
    "        \n",
    "        # Next, we want to slide window over movie and spike train\n",
    "        \n",
    "        # Start by extracting the relevant parameters\n",
    "        x_blocks = (Stimulations() & key).fetch1('x_block_size')\n",
    "        y_blocks = (Stimulations() & key).fetch1('y_block_size')\n",
    "        fr = (Stimulations() & key).fetch1('fps')\n",
    "        n_fr = (Stimulations() & key).fetch1('n_frames')\n",
    "        x_dim = (Stimulations() & key).fetch1('stim_width')\n",
    "        y_dim = (Stimulations() & key).fetch1('stim_height')\n",
    "        spikes = (SpikeTrain() & key).fetch1('spike_times')\n",
    "        movie = (Stimulations() & key).fetch1('movie')\n",
    "        \n",
    "        # create a frame time array (which is found by dividing frame_number / framerate)\n",
    "        frames = np.arange(0, n_fr)\n",
    "        fr_times = frames / fr\n",
    "        \n",
    "        # Create sliding window mask for looking at subarrays of this fr_times array\n",
    "        # compute best window size:\n",
    "        window_size = round(window_seconds * fr)\n",
    "        \n",
    "        # Padding so I can reshape the index mask to the correct size given a particular frame count.\n",
    "        num_to_pad = window_size - n_fr % window_size  # maximum value padding amount\n",
    "        mask_indices = np.pad(np.arange(n_fr), (0, num_to_pad), mode='maximum').reshape(-1, window_size) \n",
    "        \n",
    "        # mask frame times with sliding windows as rows\n",
    "        fr_times_windows = fr_times[mask_indices]\n",
    "        \n",
    "        # Create spike_counts array, which is essentially the vector y in the definition above (spike counts for each bin)\n",
    "        # Should replace this with a vectorized function, but I was running into some error that I can debug later to optimize, since this is slow.\n",
    "        print('Populating spike counts for subject {subject_name}, sample {sample_number} on {session_date} with stim_id={stim_id} for neuron {neuron_id}'.format(**key))\n",
    "        spike_counts = np.apply_along_axis(lambda x: count_spikes_in_bin(x, spikes), axis=1, arr=fr_times_windows)\n",
    "        tot_spikes = np.sum(spike_counts)\n",
    "        print(f'\\tFound {tot_spikes} total spikes with window size of {window_seconds} seconds.')\n",
    "        \n",
    "        key['n_spikes'] = spike_counts\n",
    "        \n",
    "        # Compute STA for each of the windows\n",
    "        windowed_movie = movie[:, :, mask_indices]\n",
    "        average_movie = np.mean(windowed_movie, axis=3)\n",
    "        sta = (average_movie @ spike_counts) / tot_spikes\n",
    "        \n",
    "        sta = np.repeat(sta, repeats=x_blocks, axis=0)\n",
    "        sta = np.repeat(sta, repeats=y_blocks, axis=1)\n",
    "        \n",
    "        key['sta_values'] = sta\n",
    "        \n",
    "        self.insert1(key)"
   ]
  },
  {
   "cell_type": "code",
   "execution_count": null,
   "id": "561c3a3a-9dd6-47dd-bcc7-d2d7786bfd9e",
   "metadata": {},
   "outputs": [],
   "source": [
    "dj.Diagram(schema)"
   ]
  },
  {
   "cell_type": "code",
   "execution_count": null,
   "id": "72e0ca77-74a6-4259-9489-5c33ffa3b064",
   "metadata": {},
   "outputs": [],
   "source": [
    "STRF_Compute.populate()"
   ]
  },
  {
   "cell_type": "code",
   "execution_count": null,
   "id": "b427dd53-2aba-4d2c-adad-f7ab4c9ee82d",
   "metadata": {},
   "outputs": [],
   "source": [
    "STRF_Compute()"
   ]
  },
  {
   "cell_type": "markdown",
   "id": "1ca9c2e7-8d3f-4926-8af8-e8b8d0104d00",
   "metadata": {},
   "source": [
    "#### Check an example key"
   ]
  },
  {
   "cell_type": "code",
   "execution_count": null,
   "id": "4ffb90c2-8997-450f-a7f5-b0f572b4530e",
   "metadata": {},
   "outputs": [],
   "source": [
    "key = keys[38]"
   ]
  },
  {
   "cell_type": "code",
   "execution_count": null,
   "id": "47d9ea37-3cca-435a-a3da-014c54ccdc8f",
   "metadata": {},
   "outputs": [],
   "source": [
    "image = (STRF_Compute() & key).fetch1('sta_values')\n",
    "image.shape"
   ]
  },
  {
   "cell_type": "code",
   "execution_count": null,
   "id": "23d3ec95-a5a1-4738-805a-fd7984dbebe4",
   "metadata": {},
   "outputs": [],
   "source": [
    "x_dim = (Stimulations() & key).fetch1('stim_width')\n",
    "\n",
    "x_dim"
   ]
  },
  {
   "cell_type": "code",
   "execution_count": null,
   "id": "29bde320-52a1-4f6d-82fa-4c101456453a",
   "metadata": {},
   "outputs": [],
   "source": [
    "y_dim = (Stimulations() & key).fetch1('stim_height')\n",
    "\n",
    "y_dim"
   ]
  },
  {
   "cell_type": "code",
   "execution_count": null,
   "id": "4450891c-17ec-4588-b115-19973d6a5119",
   "metadata": {},
   "outputs": [],
   "source": [
    "x_blocksize = (Stimulations() & key).fetch1('x_block_size')\n",
    "\n",
    "x_blocksize"
   ]
  },
  {
   "cell_type": "code",
   "execution_count": null,
   "id": "c11eb9ba-576a-43eb-8d94-7ba459130cfa",
   "metadata": {},
   "outputs": [],
   "source": [
    "y_blocksize = (Stimulations() & key).fetch1('y_block_size')\n",
    "\n",
    "y_blocksize"
   ]
  },
  {
   "cell_type": "markdown",
   "id": "a102bb2e-b0f4-4d6a-a7f3-06d38251a2c9",
   "metadata": {},
   "source": [
    "$x_{dim} / x_{block} = \\text{image.shape[0]}$\n",
    "\n",
    "$y_{dim} / y_{block} = \\text{image.shape[1]}$"
   ]
  },
  {
   "cell_type": "code",
   "execution_count": null,
   "id": "94448d4c-1eea-428a-9cb2-8ad269367122",
   "metadata": {},
   "outputs": [],
   "source": [
    "image = np.repeat(image, repeats=x_blocksize, axis=0)"
   ]
  },
  {
   "cell_type": "code",
   "execution_count": null,
   "id": "8d409c5c-bde3-4a0c-8251-e02e135b48ba",
   "metadata": {},
   "outputs": [],
   "source": [
    "image = np.repeat(image, repeats=y_blocksize, axis=1)"
   ]
  },
  {
   "cell_type": "code",
   "execution_count": null,
   "id": "1d7d0b0d-a368-4584-a65a-ee66e9c178f6",
   "metadata": {},
   "outputs": [],
   "source": [
    "image.shape"
   ]
  },
  {
   "cell_type": "code",
   "execution_count": null,
   "id": "b56aff32-e193-439f-9e96-619aeb504ba2",
   "metadata": {},
   "outputs": [],
   "source": [
    "plt.imshow(image)"
   ]
  },
  {
   "cell_type": "code",
   "execution_count": null,
   "id": "086655f4-91ac-4c8f-9a88-4238d5bf076d",
   "metadata": {},
   "outputs": [],
   "source": []
  }
 ],
 "metadata": {
  "kernelspec": {
   "display_name": "Python [conda env:datajoint_interview] *",
   "language": "python",
   "name": "conda-env-datajoint_interview-py"
  },
  "language_info": {
   "codemirror_mode": {
    "name": "ipython",
    "version": 3
   },
   "file_extension": ".py",
   "mimetype": "text/x-python",
   "name": "python",
   "nbconvert_exporter": "python",
   "pygments_lexer": "ipython3",
   "version": "3.8.13"
  }
 },
 "nbformat": 4,
 "nbformat_minor": 5
}
